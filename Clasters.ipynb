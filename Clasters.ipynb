{
  "nbformat": 4,
  "nbformat_minor": 0,
  "metadata": {
    "colab": {
      "name": "Clasters.ipynb",
      "provenance": [],
      "collapsed_sections": [],
      "authorship_tag": "ABX9TyOUkg64qUbiSMfgGcB7liQ6",
      "include_colab_link": true
    },
    "kernelspec": {
      "name": "python3",
      "display_name": "Python 3"
    },
    "language_info": {
      "name": "python"
    }
  },
  "cells": [
    {
      "cell_type": "markdown",
      "metadata": {
        "id": "view-in-github",
        "colab_type": "text"
      },
      "source": [
        "<a href=\"https://colab.research.google.com/github/Zerowl7/Hierarchical-clustering/blob/main/Clasters.ipynb\" target=\"_parent\"><img src=\"https://colab.research.google.com/assets/colab-badge.svg\" alt=\"Open In Colab\"/></a>"
      ]
    },
    {
      "cell_type": "markdown",
      "source": [
        "# Кластерный анализ"
      ],
      "metadata": {
        "id": "cQTsXhJnCZ7o"
      }
    },
    {
      "cell_type": "code",
      "execution_count": 1,
      "metadata": {
        "id": "neeEQQsMCUSi"
      },
      "outputs": [],
      "source": [
        "import pandas as pd"
      ]
    },
    {
      "cell_type": "code",
      "source": [
        "import matplotlib.pyplot as plt"
      ],
      "metadata": {
        "id": "7YUAaY4vETS9"
      },
      "execution_count": 12,
      "outputs": []
    },
    {
      "cell_type": "code",
      "source": [
        "x = [9, 6, 2, 3, 1, 7, 1, 6, 1, 7, 23, 26, 25, 23, 21, 23, 23, 20, 30, 23]\n",
        "y = [8, 4, 10, 6, 0, 4, 10, 10, 6, 1, 29, 25, 30, 29, 29, 30, 25, 27, 26, 30]"
      ],
      "metadata": {
        "id": "AyeFlL0qCtpX"
      },
      "execution_count": 3,
      "outputs": []
    },
    {
      "cell_type": "code",
      "source": [
        "df = pd.DataFrame(data={'x':x,'y':y})"
      ],
      "metadata": {
        "id": "fJpZ_TJ7Chs8"
      },
      "execution_count": 4,
      "outputs": []
    },
    {
      "cell_type": "code",
      "source": [
        "from scipy.cluster.hierarchy import linkage, fcluster"
      ],
      "metadata": {
        "id": "PfCY3ejNC6GQ"
      },
      "execution_count": 6,
      "outputs": []
    },
    {
      "cell_type": "code",
      "source": [
        "import seaborn as sns\n"
      ],
      "metadata": {
        "id": "4aM9q8c3CkWL"
      },
      "execution_count": 5,
      "outputs": []
    },
    {
      "cell_type": "code",
      "source": [
        "# Use the linkage() для вычисления расстояния\n",
        "Z = linkage(df, 'ward')\n",
        "\n",
        "# Генерация кластерных Названий\n",
        "df['cluster_labels'] = fcluster(Z, 2, criterion='maxclust')\n",
        "\n",
        "# Plot the points with seaborn\n",
        "sns.scatterplot(x='x', y='y', hue='cluster_labels', data=df);"
      ],
      "metadata": {
        "colab": {
          "base_uri": "https://localhost:8080/",
          "height": 279
        },
        "id": "FpjPzIGWC1Gp",
        "outputId": "d3960d54-fc2a-4862-957c-27ec8e499da2"
      },
      "execution_count": 7,
      "outputs": [
        {
          "output_type": "display_data",
          "data": {
            "text/plain": [
              "<Figure size 432x288 with 1 Axes>"
            ],
            "image/png": "[encoded data removed]"
          },
          "metadata": {
            "needs_background": "light"
          }
        }
      ]
    },
    {
      "cell_type": "markdown",
      "source": [
        "Мы имеем два кластера, которые расположены, очень далеко по отношению к друг другу"
      ],
      "metadata": {
        "id": "gcli1KOiDpwi"
      }
    },
    {
      "cell_type": "markdown",
      "source": [
        "# k-means clustering"
      ],
      "metadata": {
        "id": "nEBli5DBD74G"
      }
    },
    {
      "cell_type": "code",
      "source": [
        "# Import kmeans and vq functions\n",
        "from scipy.cluster.vq import kmeans, vq\n",
        "\n",
        "# Создаем центры\n",
        "centroids,_ = kmeans(df, 2)\n",
        "\n",
        "# определяем labeles\n",
        "df['cluster_labels'], _ = vq(df, centroids)\n",
        "\n",
        "# Plot the points with seaborn\n",
        "sns.scatterplot(x='x', y='y', hue='cluster_labels', data=df)\n",
        "plt.show()"
      ],
      "metadata": {
        "colab": {
          "base_uri": "https://localhost:8080/",
          "height": 279
        },
        "id": "LXW_OedXEH5G",
        "outputId": "2c5abfdb-189c-49cc-d9de-d10c14c04215"
      },
      "execution_count": 13,
      "outputs": [
        {
          "output_type": "display_data",
          "data": {
            "text/plain": [
              "<Figure size 432x288 with 1 Axes>"
            ],
            "image/png": "[encoded data removed]"
          },
          "metadata": {
            "needs_background": "light"
          }
        }
      ]
    },
    {
      "cell_type": "markdown",
      "source": [
        "# Нормализация данных основного списка"
      ],
      "metadata": {
        "id": "nVY9tr74EtcO"
      }
    },
    {
      "cell_type": "code",
      "source": [
        "# Import \n",
        "from scipy.cluster.vq import whiten\n",
        "\n",
        "goals_for = [4,3,2,3,1,1,2,0,1,4]\n",
        "\n",
        "# Стандартизация\n",
        "scaled_data = whiten(goals_for)\n",
        "print(scaled_data)"
      ],
      "metadata": {
        "colab": {
          "base_uri": "https://localhost:8080/"
        },
        "id": "w51K_fCxEOgE",
        "outputId": "9b4460c0-1979-4625-a1f5-6f57b26caf27"
      },
      "execution_count": 14,
      "outputs": [
        {
          "output_type": "stream",
          "name": "stdout",
          "text": [
            "[3.07692308 2.30769231 1.53846154 2.30769231 0.76923077 0.76923077\n",
            " 1.53846154 0.         0.76923077 3.07692308]\n"
          ]
        }
      ]
    },
    {
      "cell_type": "markdown",
      "source": [
        "# Визуализация"
      ],
      "metadata": {
        "id": "hh58wj47FOKx"
      }
    },
    {
      "cell_type": "code",
      "source": [
        "# Plot original data\n",
        "plt.plot(goals_for, label='original')\n",
        "\n",
        "# Plot scaled data\n",
        "plt.plot(scaled_data, label='scaled')\n",
        "\n",
        "# Show the legend in the plot\n",
        "plt.legend()\n",
        "\n",
        "# Display the plot\n",
        "plt.show()"
      ],
      "metadata": {
        "colab": {
          "base_uri": "https://localhost:8080/",
          "height": 265
        },
        "id": "7LITGRVvFKZb",
        "outputId": "66b31fcb-4b7a-4c84-8606-665dfcadc67a"
      },
      "execution_count": 15,
      "outputs": [
        {
          "output_type": "display_data",
          "data": {
            "text/plain": [
              "<Figure size 432x288 with 1 Axes>"
            ],
            "image/png": "[encoded data removed]"
          },
          "metadata": {
            "needs_background": "light"
          }
        }
      ]
    },
    {
      "cell_type": "markdown",
      "source": [
        "Можем увидеть, в чем разница стандартизации данных"
      ],
      "metadata": {
        "id": "W0i9bb59FZAd"
      }
    },
    {
      "cell_type": "markdown",
      "source": [
        "# Тренировка на Датасете"
      ],
      "metadata": {
        "id": "b9aN67JzIFEQ"
      }
    },
    {
      "cell_type": "code",
      "source": [
        "fifa = pd.read_csv('https://raw.githubusercontent.com/ShantanilBagchi/DataCamp/master/Python%20Courses/Cluster%20Analysis%20in%20Python/DataSets/fifa_18_sample_data.csv')"
      ],
      "metadata": {
        "id": "hPDGesNoFV8j"
      },
      "execution_count": 21,
      "outputs": []
    },
    {
      "cell_type": "code",
      "source": [
        "fifa.shape"
      ],
      "metadata": {
        "colab": {
          "base_uri": "https://localhost:8080/"
        },
        "id": "o9fT-lDNHcSg",
        "outputId": "eb0d3875-1efb-4b8b-8290-f427c108b04d"
      },
      "execution_count": 23,
      "outputs": [
        {
          "output_type": "execute_result",
          "data": {
            "text/plain": [
              "(1000, 185)"
            ]
          },
          "metadata": {},
          "execution_count": 23
        }
      ]
    },
    {
      "cell_type": "code",
      "source": [
        "fifa.head()"
      ],
      "metadata": {
        "colab": {
          "base_uri": "https://localhost:8080/",
          "height": 490
        },
        "id": "aNic8ZrcGFi5",
        "outputId": "8db4e6b2-4ad3-46ed-e5dc-cf50ee66e898"
      },
      "execution_count": 22,
      "outputs": [
        {
          "output_type": "execute_result",
          "data": {
            "text/plain": [
              "       ID               name                     full_name  \\\n",
              "0   20801  Cristiano Ronaldo  C. Ronaldo dos Santos Aveiro   \n",
              "1  158023           L. Messi                  Lionel Messi   \n",
              "2  190871             Neymar    Neymar da Silva Santos Jr.   \n",
              "3  176580          L. Suárez                   Luis Suárez   \n",
              "4  167495           M. Neuer                  Manuel Neuer   \n",
              "\n",
              "                  club                                club_logo  special  age  \\\n",
              "0       Real Madrid CF  https://cdn.sofifa.org/18/teams/243.png     2228   32   \n",
              "1         FC Barcelona  https://cdn.sofifa.org/18/teams/241.png     2158   30   \n",
              "2  Paris Saint-Germain   https://cdn.sofifa.org/18/teams/73.png     2100   25   \n",
              "3         FC Barcelona  https://cdn.sofifa.org/18/teams/241.png     2291   30   \n",
              "4     FC Bayern Munich   https://cdn.sofifa.org/18/teams/21.png     1493   31   \n",
              "\n",
              "                     league  birth_date  height_cm  ...  prefers_cb  \\\n",
              "0  Spanish Primera División  1985-02-05      185.0  ...       False   \n",
              "1  Spanish Primera División  1987-06-24      170.0  ...       False   \n",
              "2            French Ligue 1  1992-02-05      175.0  ...       False   \n",
              "3  Spanish Primera División  1987-01-24      182.0  ...       False   \n",
              "4         German Bundesliga  1986-03-27      193.0  ...       False   \n",
              "\n",
              "  prefers_lb  prefers_lwb prefers_ls prefers_lf prefers_lam  prefers_lcm  \\\n",
              "0      False        False      False      False       False        False   \n",
              "1      False        False      False      False       False        False   \n",
              "2      False        False      False      False       False        False   \n",
              "3      False        False      False      False       False        False   \n",
              "4      False        False      False      False       False        False   \n",
              "\n",
              "   prefers_ldm  prefers_lcb  prefers_gk  \n",
              "0        False        False       False  \n",
              "1        False        False       False  \n",
              "2        False        False       False  \n",
              "3        False        False       False  \n",
              "4        False        False        True  \n",
              "\n",
              "[5 rows x 185 columns]"
            ],
            "text/html": [
              "\n",
              "  <div id=\"df-fb08490c-1749-4fe2-983e-9f9e6504948c\">\n",
              "    <div class=\"colab-df-container\">\n",
              "      <div>\n",
              "<style scoped>\n",
              "    .dataframe tbody tr th:only-of-type {\n",
              "        vertical-align: middle;\n",
              "    }\n",
              "\n",
              "    .dataframe tbody tr th {\n",
              "        vertical-align: top;\n",
              "    }\n",
              "\n",
              "    .dataframe thead th {\n",
              "        text-align: right;\n",
              "    }\n",
              "</style>\n",
              "<table border=\"1\" class=\"dataframe\">\n",
              "  <thead>\n",
              "    <tr style=\"text-align: right;\">\n",
              "      <th></th>\n",
              "      <th>ID</th>\n",
              "      <th>name</th>\n",
              "      <th>full_name</th>\n",
              "      <th>club</th>\n",
              "      <th>club_logo</th>\n",
              "      <th>special</th>\n",
              "      <th>age</th>\n",
              "      <th>league</th>\n",
              "      <th>birth_date</th>\n",
              "      <th>height_cm</th>\n",
              "      <th>...</th>\n",
              "      <th>prefers_cb</th>\n",
              "      <th>prefers_lb</th>\n",
              "      <th>prefers_lwb</th>\n",
              "      <th>prefers_ls</th>\n",
              "      <th>prefers_lf</th>\n",
              "      <th>prefers_lam</th>\n",
              "      <th>prefers_lcm</th>\n",
              "      <th>prefers_ldm</th>\n",
              "      <th>prefers_lcb</th>\n",
              "      <th>prefers_gk</th>\n",
              "    </tr>\n",
              "  </thead>\n",
              "  <tbody>\n",
              "    <tr>\n",
              "      <th>0</th>\n",
              "      <td>20801</td>\n",
              "      <td>Cristiano Ronaldo</td>\n",
              "      <td>C. Ronaldo dos Santos Aveiro</td>\n",
              "      <td>Real Madrid CF</td>\n",
              "      <td>https://cdn.sofifa.org/18/teams/243.png</td>\n",
              "      <td>2228</td>\n",
              "      <td>32</td>\n",
              "      <td>Spanish Primera División</td>\n",
              "      <td>1985-02-05</td>\n",
              "      <td>185.0</td>\n",
              "      <td>...</td>\n",
              "      <td>False</td>\n",
              "      <td>False</td>\n",
              "      <td>False</td>\n",
              "      <td>False</td>\n",
              "      <td>False</td>\n",
              "      <td>False</td>\n",
              "      <td>False</td>\n",
              "      <td>False</td>\n",
              "      <td>False</td>\n",
              "      <td>False</td>\n",
              "    </tr>\n",
              "    <tr>\n",
              "      <th>1</th>\n",
              "      <td>158023</td>\n",
              "      <td>L. Messi</td>\n",
              "      <td>Lionel Messi</td>\n",
              "      <td>FC Barcelona</td>\n",
              "      <td>https://cdn.sofifa.org/18/teams/241.png</td>\n",
              "      <td>2158</td>\n",
              "      <td>30</td>\n",
              "      <td>Spanish Primera División</td>\n",
              "      <td>1987-06-24</td>\n",
              "      <td>170.0</td>\n",
              "      <td>...</td>\n",
              "      <td>False</td>\n",
              "      <td>False</td>\n",
              "      <td>False</td>\n",
              "      <td>False</td>\n",
              "      <td>False</td>\n",
              "      <td>False</td>\n",
              "      <td>False</td>\n",
              "      <td>False</td>\n",
              "      <td>False</td>\n",
              "      <td>False</td>\n",
              "    </tr>\n",
              "    <tr>\n",
              "      <th>2</th>\n",
              "      <td>190871</td>\n",
              "      <td>Neymar</td>\n",
              "      <td>Neymar da Silva Santos Jr.</td>\n",
              "      <td>Paris Saint-Germain</td>\n",
              "      <td>https://cdn.sofifa.org/18/teams/73.png</td>\n",
              "      <td>2100</td>\n",
              "      <td>25</td>\n",
              "      <td>French Ligue 1</td>\n",
              "      <td>1992-02-05</td>\n",
              "      <td>175.0</td>\n",
              "      <td>...</td>\n",
              "      <td>False</td>\n",
              "      <td>False</td>\n",
              "      <td>False</td>\n",
              "      <td>False</td>\n",
              "      <td>False</td>\n",
              "      <td>False</td>\n",
              "      <td>False</td>\n",
              "      <td>False</td>\n",
              "      <td>False</td>\n",
              "      <td>False</td>\n",
              "    </tr>\n",
              "    <tr>\n",
              "      <th>3</th>\n",
              "      <td>176580</td>\n",
              "      <td>L. Suárez</td>\n",
              "      <td>Luis Suárez</td>\n",
              "      <td>FC Barcelona</td>\n",
              "      <td>https://cdn.sofifa.org/18/teams/241.png</td>\n",
              "      <td>2291</td>\n",
              "      <td>30</td>\n",
              "      <td>Spanish Primera División</td>\n",
              "      <td>1987-01-24</td>\n",
              "      <td>182.0</td>\n",
              "      <td>...</td>\n",
              "      <td>False</td>\n",
              "      <td>False</td>\n",
              "      <td>False</td>\n",
              "      <td>False</td>\n",
              "      <td>False</td>\n",
              "      <td>False</td>\n",
              "      <td>False</td>\n",
              "      <td>False</td>\n",
              "      <td>False</td>\n",
              "      <td>False</td>\n",
              "    </tr>\n",
              "    <tr>\n",
              "      <th>4</th>\n",
              "      <td>167495</td>\n",
              "      <td>M. Neuer</td>\n",
              "      <td>Manuel Neuer</td>\n",
              "      <td>FC Bayern Munich</td>\n",
              "      <td>https://cdn.sofifa.org/18/teams/21.png</td>\n",
              "      <td>1493</td>\n",
              "      <td>31</td>\n",
              "      <td>German Bundesliga</td>\n",
              "      <td>1986-03-27</td>\n",
              "      <td>193.0</td>\n",
              "      <td>...</td>\n",
              "      <td>False</td>\n",
              "      <td>False</td>\n",
              "      <td>False</td>\n",
              "      <td>False</td>\n",
              "      <td>False</td>\n",
              "      <td>False</td>\n",
              "      <td>False</td>\n",
              "      <td>False</td>\n",
              "      <td>False</td>\n",
              "      <td>True</td>\n",
              "    </tr>\n",
              "  </tbody>\n",
              "</table>\n",
              "<p>5 rows × 185 columns</p>\n",
              "</div>\n",
              "      <button class=\"colab-df-convert\" onclick=\"convertToInteractive('df-fb08490c-1749-4fe2-983e-9f9e6504948c')\"\n",
              "              title=\"Convert this dataframe to an interactive table.\"\n",
              "              style=\"display:none;\">\n",
              "        \n",
              "  <svg xmlns=\"http://www.w3.org/2000/svg\" height=\"24px\"viewBox=\"0 0 24 24\"\n",
              "       width=\"24px\">\n",
              "    <path d=\"M0 0h24v24H0V0z\" fill=\"none\"/>\n",
              "    <path d=\"M18.56 5.44l.94 2.06.94-2.06 2.06-.94-2.06-.94-.94-2.06-.94 2.06-2.06.94zm-11 1L8.5 8.5l.94-2.06 2.06-.94-2.06-.94L8.5 2.5l-.94 2.06-2.06.94zm10 10l.94 2.06.94-2.06 2.06-.94-2.06-.94-.94-2.06-.94 2.06-2.06.94z\"/><path d=\"M17.41 7.96l-1.37-1.37c-.4-.4-.92-.59-1.43-.59-.52 0-1.04.2-1.43.59L10.3 9.45l-7.72 7.72c-.78.78-.78 2.05 0 2.83L4 21.41c.39.39.9.59 1.41.59.51 0 1.02-.2 1.41-.59l7.78-7.78 2.81-2.81c.8-.78.8-2.07 0-2.86zM5.41 20L4 18.59l7.72-7.72 1.47 1.35L5.41 20z\"/>\n",
              "  </svg>\n",
              "      </button>\n",
              "      \n",
              "  <style>\n",
              "    .colab-df-container {\n",
              "      display:flex;\n",
              "      flex-wrap:wrap;\n",
              "      gap: 12px;\n",
              "    }\n",
              "\n",
              "    .colab-df-convert {\n",
              "      background-color: #E8F0FE;\n",
              "      border: none;\n",
              "      border-radius: 50%;\n",
              "      cursor: pointer;\n",
              "      display: none;\n",
              "      fill: #1967D2;\n",
              "      height: 32px;\n",
              "      padding: 0 0 0 0;\n",
              "      width: 32px;\n",
              "    }\n",
              "\n",
              "    .colab-df-convert:hover {\n",
              "      background-color: #E2EBFA;\n",
              "      box-shadow: 0px 1px 2px rgba(60, 64, 67, 0.3), 0px 1px 3px 1px rgba(60, 64, 67, 0.15);\n",
              "      fill: #174EA6;\n",
              "    }\n",
              "\n",
              "    [theme=dark] .colab-df-convert {\n",
              "      background-color: #3B4455;\n",
              "      fill: #D2E3FC;\n",
              "    }\n",
              "\n",
              "    [theme=dark] .colab-df-convert:hover {\n",
              "      background-color: #434B5C;\n",
              "      box-shadow: 0px 1px 3px 1px rgba(0, 0, 0, 0.15);\n",
              "      filter: drop-shadow(0px 1px 2px rgba(0, 0, 0, 0.3));\n",
              "      fill: #FFFFFF;\n",
              "    }\n",
              "  </style>\n",
              "\n",
              "      <script>\n",
              "        const buttonEl =\n",
              "          document.querySelector('#df-fb08490c-1749-4fe2-983e-9f9e6504948c button.colab-df-convert');\n",
              "        buttonEl.style.display =\n",
              "          google.colab.kernel.accessAllowed ? 'block' : 'none';\n",
              "\n",
              "        async function convertToInteractive(key) {\n",
              "          const element = document.querySelector('#df-fb08490c-1749-4fe2-983e-9f9e6504948c');\n",
              "          const dataTable =\n",
              "            await google.colab.kernel.invokeFunction('convertToInteractive',\n",
              "                                                     [key], {});\n",
              "          if (!dataTable) return;\n",
              "\n",
              "          const docLinkHtml = 'Like what you see? Visit the ' +\n",
              "            '<a target=\"_blank\" href=https://colab.research.google.com/notebooks/data_table.ipynb>data table notebook</a>'\n",
              "            + ' to learn more about interactive tables.';\n",
              "          element.innerHTML = '';\n",
              "          dataTable['output_type'] = 'display_data';\n",
              "          await google.colab.output.renderOutput(dataTable, element);\n",
              "          const docLink = document.createElement('div');\n",
              "          docLink.innerHTML = docLinkHtml;\n",
              "          element.appendChild(docLink);\n",
              "        }\n",
              "      </script>\n",
              "    </div>\n",
              "  </div>\n",
              "  "
            ]
          },
          "metadata": {},
          "execution_count": 22
        }
      ]
    },
    {
      "cell_type": "code",
      "source": [
        "\n",
        "# Стандартизация\n",
        "fifa['scaled_wage'] = whiten(fifa['eur_wage'])\n",
        "fifa['scaled_value'] = whiten(fifa['eur_value'])"
      ],
      "metadata": {
        "id": "9q_l1evvGGA0"
      },
      "execution_count": 24,
      "outputs": []
    },
    {
      "cell_type": "code",
      "source": [
        "# Plot the two columns in a scatter plot\n",
        "fifa.plot(x='scaled_wage', y='scaled_value', kind='scatter')\n",
        "plt.show()"
      ],
      "metadata": {
        "colab": {
          "base_uri": "https://localhost:8080/",
          "height": 280
        },
        "id": "GTN_nuVFHiTT",
        "outputId": "6f9ee850-10a7-4993-b839-a84bf935ba1e"
      },
      "execution_count": 25,
      "outputs": [
        {
          "output_type": "display_data",
          "data": {
            "text/plain": [
              "<Figure size 432x288 with 1 Axes>"
            ],
            "image/png": "[encoded data removed]"
          },
          "metadata": {
            "needs_background": "light"
          }
        }
      ]
    },
    {
      "cell_type": "code",
      "source": [
        "print(fifa[['scaled_wage', 'scaled_value']].describe())"
      ],
      "metadata": {
        "colab": {
          "base_uri": "https://localhost:8080/"
        },
        "id": "kpH7c8AkHmPx",
        "outputId": "961869c6-0c91-4ef1-de42-abb852be3896"
      },
      "execution_count": 26,
      "outputs": [
        {
          "output_type": "stream",
          "name": "stdout",
          "text": [
            "       scaled_wage  scaled_value\n",
            "count  1000.000000   1000.000000\n",
            "mean      1.119812      1.306272\n",
            "std       1.000500      1.000500\n",
            "min       0.000000      0.000000\n",
            "25%       0.467717      0.730412\n",
            "50%       0.854794      1.022576\n",
            "75%       1.407184      1.542995\n",
            "max       9.112425      8.984064\n"
          ]
        }
      ]
    },
    {
      "cell_type": "markdown",
      "source": [
        "масштабированные значения имеют стандартное отклонение 1"
      ],
      "metadata": {
        "id": "FX_LXLNRH0um"
      }
    },
    {
      "cell_type": "markdown",
      "source": [
        ""
      ],
      "metadata": {
        "id": "h0D6swFZIJZ2"
      }
    },
    {
      "cell_type": "code",
      "source": [
        "fifa = pd.read_csv('fifa_18_dataset.csv')"
      ],
      "metadata": {
        "id": "yHzbIAWiHqfY"
      },
      "execution_count": 27,
      "outputs": []
    },
    {
      "cell_type": "code",
      "source": [
        "fifa.head()"
      ],
      "metadata": {
        "colab": {
          "base_uri": "https://localhost:8080/",
          "height": 206
        },
        "id": "_T6VErN5IWS6",
        "outputId": "b1070e89-3106-4d46-f50d-a47d8fc5e12b"
      },
      "execution_count": 28,
      "outputs": [
        {
          "output_type": "execute_result",
          "data": {
            "text/plain": [
              "   sliding_tackle  aggression\n",
              "0              23          63\n",
              "1              26          48\n",
              "2              33          56\n",
              "3              38          78\n",
              "4              11          29"
            ],
            "text/html": [
              "\n",
              "  <div id=\"df-37561d64-f515-4d79-a3cc-e3eb763ded6f\">\n",
              "    <div class=\"colab-df-container\">\n",
              "      <div>\n",
              "<style scoped>\n",
              "    .dataframe tbody tr th:only-of-type {\n",
              "        vertical-align: middle;\n",
              "    }\n",
              "\n",
              "    .dataframe tbody tr th {\n",
              "        vertical-align: top;\n",
              "    }\n",
              "\n",
              "    .dataframe thead th {\n",
              "        text-align: right;\n",
              "    }\n",
              "</style>\n",
              "<table border=\"1\" class=\"dataframe\">\n",
              "  <thead>\n",
              "    <tr style=\"text-align: right;\">\n",
              "      <th></th>\n",
              "      <th>sliding_tackle</th>\n",
              "      <th>aggression</th>\n",
              "    </tr>\n",
              "  </thead>\n",
              "  <tbody>\n",
              "    <tr>\n",
              "      <th>0</th>\n",
              "      <td>23</td>\n",
              "      <td>63</td>\n",
              "    </tr>\n",
              "    <tr>\n",
              "      <th>1</th>\n",
              "      <td>26</td>\n",
              "      <td>48</td>\n",
              "    </tr>\n",
              "    <tr>\n",
              "      <th>2</th>\n",
              "      <td>33</td>\n",
              "      <td>56</td>\n",
              "    </tr>\n",
              "    <tr>\n",
              "      <th>3</th>\n",
              "      <td>38</td>\n",
              "      <td>78</td>\n",
              "    </tr>\n",
              "    <tr>\n",
              "      <th>4</th>\n",
              "      <td>11</td>\n",
              "      <td>29</td>\n",
              "    </tr>\n",
              "  </tbody>\n",
              "</table>\n",
              "</div>\n",
              "      <button class=\"colab-df-convert\" onclick=\"convertToInteractive('df-37561d64-f515-4d79-a3cc-e3eb763ded6f')\"\n",
              "              title=\"Convert this dataframe to an interactive table.\"\n",
              "              style=\"display:none;\">\n",
              "        \n",
              "  <svg xmlns=\"http://www.w3.org/2000/svg\" height=\"24px\"viewBox=\"0 0 24 24\"\n",
              "       width=\"24px\">\n",
              "    <path d=\"M0 0h24v24H0V0z\" fill=\"none\"/>\n",
              "    <path d=\"M18.56 5.44l.94 2.06.94-2.06 2.06-.94-2.06-.94-.94-2.06-.94 2.06-2.06.94zm-11 1L8.5 8.5l.94-2.06 2.06-.94-2.06-.94L8.5 2.5l-.94 2.06-2.06.94zm10 10l.94 2.06.94-2.06 2.06-.94-2.06-.94-.94-2.06-.94 2.06-2.06.94z\"/><path d=\"M17.41 7.96l-1.37-1.37c-.4-.4-.92-.59-1.43-.59-.52 0-1.04.2-1.43.59L10.3 9.45l-7.72 7.72c-.78.78-.78 2.05 0 2.83L4 21.41c.39.39.9.59 1.41.59.51 0 1.02-.2 1.41-.59l7.78-7.78 2.81-2.81c.8-.78.8-2.07 0-2.86zM5.41 20L4 18.59l7.72-7.72 1.47 1.35L5.41 20z\"/>\n",
              "  </svg>\n",
              "      </button>\n",
              "      \n",
              "  <style>\n",
              "    .colab-df-container {\n",
              "      display:flex;\n",
              "      flex-wrap:wrap;\n",
              "      gap: 12px;\n",
              "    }\n",
              "\n",
              "    .colab-df-convert {\n",
              "      background-color: #E8F0FE;\n",
              "      border: none;\n",
              "      border-radius: 50%;\n",
              "      cursor: pointer;\n",
              "      display: none;\n",
              "      fill: #1967D2;\n",
              "      height: 32px;\n",
              "      padding: 0 0 0 0;\n",
              "      width: 32px;\n",
              "    }\n",
              "\n",
              "    .colab-df-convert:hover {\n",
              "      background-color: #E2EBFA;\n",
              "      box-shadow: 0px 1px 2px rgba(60, 64, 67, 0.3), 0px 1px 3px 1px rgba(60, 64, 67, 0.15);\n",
              "      fill: #174EA6;\n",
              "    }\n",
              "\n",
              "    [theme=dark] .colab-df-convert {\n",
              "      background-color: #3B4455;\n",
              "      fill: #D2E3FC;\n",
              "    }\n",
              "\n",
              "    [theme=dark] .colab-df-convert:hover {\n",
              "      background-color: #434B5C;\n",
              "      box-shadow: 0px 1px 3px 1px rgba(0, 0, 0, 0.15);\n",
              "      filter: drop-shadow(0px 1px 2px rgba(0, 0, 0, 0.3));\n",
              "      fill: #FFFFFF;\n",
              "    }\n",
              "  </style>\n",
              "\n",
              "      <script>\n",
              "        const buttonEl =\n",
              "          document.querySelector('#df-37561d64-f515-4d79-a3cc-e3eb763ded6f button.colab-df-convert');\n",
              "        buttonEl.style.display =\n",
              "          google.colab.kernel.accessAllowed ? 'block' : 'none';\n",
              "\n",
              "        async function convertToInteractive(key) {\n",
              "          const element = document.querySelector('#df-37561d64-f515-4d79-a3cc-e3eb763ded6f');\n",
              "          const dataTable =\n",
              "            await google.colab.kernel.invokeFunction('convertToInteractive',\n",
              "                                                     [key], {});\n",
              "          if (!dataTable) return;\n",
              "\n",
              "          const docLinkHtml = 'Like what you see? Visit the ' +\n",
              "            '<a target=\"_blank\" href=https://colab.research.google.com/notebooks/data_table.ipynb>data table notebook</a>'\n",
              "            + ' to learn more about interactive tables.';\n",
              "          element.innerHTML = '';\n",
              "          dataTable['output_type'] = 'display_data';\n",
              "          await google.colab.output.renderOutput(dataTable, element);\n",
              "          const docLink = document.createElement('div');\n",
              "          docLink.innerHTML = docLinkHtml;\n",
              "          element.appendChild(docLink);\n",
              "        }\n",
              "      </script>\n",
              "    </div>\n",
              "  </div>\n",
              "  "
            ]
          },
          "metadata": {},
          "execution_count": 28
        }
      ]
    },
    {
      "cell_type": "markdown",
      "source": [
        " Нарушения в футболе"
      ],
      "metadata": {
        "id": "7GqHF8QYIcbM"
      }
    },
    {
      "cell_type": "code",
      "source": [
        "fifa['scaled_sliding_tackle'] = whiten(fifa['sliding_tackle'])\n",
        "fifa['scaled_aggression'] = whiten(fifa['aggression'])"
      ],
      "metadata": {
        "id": "yOGTglnUIYTO"
      },
      "execution_count": 29,
      "outputs": []
    },
    {
      "cell_type": "code",
      "source": [
        "# Fit\n",
        "distance_matrix = linkage(fifa[['scaled_sliding_tackle', 'scaled_aggression']], 'ward')\n",
        "\n",
        "# Assign cluster labels to each row of data\n",
        "fifa['cluster_labels'] = fcluster(distance_matrix, 3, criterion='maxclust')\n",
        "\n",
        "# Display cluster centers of each cluster\n",
        "print(fifa[['scaled_sliding_tackle', 'scaled_aggression', 'cluster_labels']].groupby('cluster_labels').mean())"
      ],
      "metadata": {
        "colab": {
          "base_uri": "https://localhost:8080/"
        },
        "id": "Ik6LxsRSIhit",
        "outputId": "f63ba315-2890-438b-e223-9323137989af"
      },
      "execution_count": 30,
      "outputs": [
        {
          "output_type": "stream",
          "name": "stdout",
          "text": [
            "                scaled_sliding_tackle  scaled_aggression\n",
            "cluster_labels                                          \n",
            "1                            0.987373           1.849142\n",
            "2                            3.013487           4.063492\n",
            "3                            1.934455           3.210802\n"
          ]
        }
      ]
    },
    {
      "cell_type": "code",
      "source": [
        "# Create a scatter plot through seaborn\n",
        "sns.scatterplot(x='scaled_sliding_tackle', y='scaled_aggression', hue='cluster_labels', data=fifa)\n",
        "plt.show()"
      ],
      "metadata": {
        "colab": {
          "base_uri": "https://localhost:8080/",
          "height": 280
        },
        "id": "2PTnhPNKItTS",
        "outputId": "823c6771-de7c-4964-890e-8f4cbaf8f5f9"
      },
      "execution_count": 31,
      "outputs": [
        {
          "output_type": "display_data",
          "data": {
            "text/plain": [
              "<Figure size 432x288 with 1 Axes>"
            ],
            "image/png": "[encoded data removed]"
          },
          "metadata": {
            "needs_background": "light"
          }
        }
      ]
    },
    {
      "cell_type": "markdown",
      "source": [
        "# Кластер изображения"
      ],
      "metadata": {
        "id": "fXIHNP7GJ0Gg"
      }
    },
    {
      "cell_type": "code",
      "source": [
        "import matplotlib.image as img\n",
        "\n",
        "batman_image = img.imread('batman.jpg')\n",
        "print(batman_image.shape)\n",
        "\n",
        "r = []\n",
        "g = []\n",
        "b = []\n",
        "\n",
        "# Store RGB values of all pixels in lists r, g and b\n",
        "for row in batman_image:\n",
        "    for temp_r, temp_g, temp_b in row:\n",
        "        r.append(temp_r)\n",
        "        g.append(temp_g)\n",
        "        b.append(temp_b)"
      ],
      "metadata": {
        "colab": {
          "base_uri": "https://localhost:8080/"
        },
        "id": "IE0iw9zLJYGH",
        "outputId": "64271673-b423-49a0-a747-2d16b93277c6"
      },
      "execution_count": 32,
      "outputs": [
        {
          "output_type": "stream",
          "name": "stdout",
          "text": [
            "(169, 269, 3)\n"
          ]
        }
      ]
    },
    {
      "cell_type": "code",
      "source": [
        "batman_df =  pd.read_csv('batman_df.csv')"
      ],
      "metadata": {
        "id": "eVriIQjWKDrc"
      },
      "execution_count": 34,
      "outputs": []
    },
    {
      "cell_type": "code",
      "source": [
        "batman_df.head()"
      ],
      "metadata": {
        "colab": {
          "base_uri": "https://localhost:8080/",
          "height": 206
        },
        "id": "VF8ltMmoKKHL",
        "outputId": "2a0b1430-e448-4091-c5c6-c9edbcced0cd"
      },
      "execution_count": 35,
      "outputs": [
        {
          "output_type": "execute_result",
          "data": {
            "text/plain": [
              "   red  blue  green  scaled_red  scaled_blue  scaled_green\n",
              "0   10    15      9    0.134338     0.179734      0.126269\n",
              "1   14    49     36    0.188074     0.587133      0.505076\n",
              "2   55   125    103    0.738862     1.497787      1.445077\n",
              "3   35   129     98    0.470185     1.545716      1.374928\n",
              "4   38   134    101    0.510486     1.605628      1.417017"
            ],
            "text/html": [
              "\n",
              "  <div id=\"df-bf9e6771-dc7a-4bc2-b804-a667b45db646\">\n",
              "    <div class=\"colab-df-container\">\n",
              "      <div>\n",
              "<style scoped>\n",
              "    .dataframe tbody tr th:only-of-type {\n",
              "        vertical-align: middle;\n",
              "    }\n",
              "\n",
              "    .dataframe tbody tr th {\n",
              "        vertical-align: top;\n",
              "    }\n",
              "\n",
              "    .dataframe thead th {\n",
              "        text-align: right;\n",
              "    }\n",
              "</style>\n",
              "<table border=\"1\" class=\"dataframe\">\n",
              "  <thead>\n",
              "    <tr style=\"text-align: right;\">\n",
              "      <th></th>\n",
              "      <th>red</th>\n",
              "      <th>blue</th>\n",
              "      <th>green</th>\n",
              "      <th>scaled_red</th>\n",
              "      <th>scaled_blue</th>\n",
              "      <th>scaled_green</th>\n",
              "    </tr>\n",
              "  </thead>\n",
              "  <tbody>\n",
              "    <tr>\n",
              "      <th>0</th>\n",
              "      <td>10</td>\n",
              "      <td>15</td>\n",
              "      <td>9</td>\n",
              "      <td>0.134338</td>\n",
              "      <td>0.179734</td>\n",
              "      <td>0.126269</td>\n",
              "    </tr>\n",
              "    <tr>\n",
              "      <th>1</th>\n",
              "      <td>14</td>\n",
              "      <td>49</td>\n",
              "      <td>36</td>\n",
              "      <td>0.188074</td>\n",
              "      <td>0.587133</td>\n",
              "      <td>0.505076</td>\n",
              "    </tr>\n",
              "    <tr>\n",
              "      <th>2</th>\n",
              "      <td>55</td>\n",
              "      <td>125</td>\n",
              "      <td>103</td>\n",
              "      <td>0.738862</td>\n",
              "      <td>1.497787</td>\n",
              "      <td>1.445077</td>\n",
              "    </tr>\n",
              "    <tr>\n",
              "      <th>3</th>\n",
              "      <td>35</td>\n",
              "      <td>129</td>\n",
              "      <td>98</td>\n",
              "      <td>0.470185</td>\n",
              "      <td>1.545716</td>\n",
              "      <td>1.374928</td>\n",
              "    </tr>\n",
              "    <tr>\n",
              "      <th>4</th>\n",
              "      <td>38</td>\n",
              "      <td>134</td>\n",
              "      <td>101</td>\n",
              "      <td>0.510486</td>\n",
              "      <td>1.605628</td>\n",
              "      <td>1.417017</td>\n",
              "    </tr>\n",
              "  </tbody>\n",
              "</table>\n",
              "</div>\n",
              "      <button class=\"colab-df-convert\" onclick=\"convertToInteractive('df-bf9e6771-dc7a-4bc2-b804-a667b45db646')\"\n",
              "              title=\"Convert this dataframe to an interactive table.\"\n",
              "              style=\"display:none;\">\n",
              "        \n",
              "  <svg xmlns=\"http://www.w3.org/2000/svg\" height=\"24px\"viewBox=\"0 0 24 24\"\n",
              "       width=\"24px\">\n",
              "    <path d=\"M0 0h24v24H0V0z\" fill=\"none\"/>\n",
              "    <path d=\"M18.56 5.44l.94 2.06.94-2.06 2.06-.94-2.06-.94-.94-2.06-.94 2.06-2.06.94zm-11 1L8.5 8.5l.94-2.06 2.06-.94-2.06-.94L8.5 2.5l-.94 2.06-2.06.94zm10 10l.94 2.06.94-2.06 2.06-.94-2.06-.94-.94-2.06-.94 2.06-2.06.94z\"/><path d=\"M17.41 7.96l-1.37-1.37c-.4-.4-.92-.59-1.43-.59-.52 0-1.04.2-1.43.59L10.3 9.45l-7.72 7.72c-.78.78-.78 2.05 0 2.83L4 21.41c.39.39.9.59 1.41.59.51 0 1.02-.2 1.41-.59l7.78-7.78 2.81-2.81c.8-.78.8-2.07 0-2.86zM5.41 20L4 18.59l7.72-7.72 1.47 1.35L5.41 20z\"/>\n",
              "  </svg>\n",
              "      </button>\n",
              "      \n",
              "  <style>\n",
              "    .colab-df-container {\n",
              "      display:flex;\n",
              "      flex-wrap:wrap;\n",
              "      gap: 12px;\n",
              "    }\n",
              "\n",
              "    .colab-df-convert {\n",
              "      background-color: #E8F0FE;\n",
              "      border: none;\n",
              "      border-radius: 50%;\n",
              "      cursor: pointer;\n",
              "      display: none;\n",
              "      fill: #1967D2;\n",
              "      height: 32px;\n",
              "      padding: 0 0 0 0;\n",
              "      width: 32px;\n",
              "    }\n",
              "\n",
              "    .colab-df-convert:hover {\n",
              "      background-color: #E2EBFA;\n",
              "      box-shadow: 0px 1px 2px rgba(60, 64, 67, 0.3), 0px 1px 3px 1px rgba(60, 64, 67, 0.15);\n",
              "      fill: #174EA6;\n",
              "    }\n",
              "\n",
              "    [theme=dark] .colab-df-convert {\n",
              "      background-color: #3B4455;\n",
              "      fill: #D2E3FC;\n",
              "    }\n",
              "\n",
              "    [theme=dark] .colab-df-convert:hover {\n",
              "      background-color: #434B5C;\n",
              "      box-shadow: 0px 1px 3px 1px rgba(0, 0, 0, 0.15);\n",
              "      filter: drop-shadow(0px 1px 2px rgba(0, 0, 0, 0.3));\n",
              "      fill: #FFFFFF;\n",
              "    }\n",
              "  </style>\n",
              "\n",
              "      <script>\n",
              "        const buttonEl =\n",
              "          document.querySelector('#df-bf9e6771-dc7a-4bc2-b804-a667b45db646 button.colab-df-convert');\n",
              "        buttonEl.style.display =\n",
              "          google.colab.kernel.accessAllowed ? 'block' : 'none';\n",
              "\n",
              "        async function convertToInteractive(key) {\n",
              "          const element = document.querySelector('#df-bf9e6771-dc7a-4bc2-b804-a667b45db646');\n",
              "          const dataTable =\n",
              "            await google.colab.kernel.invokeFunction('convertToInteractive',\n",
              "                                                     [key], {});\n",
              "          if (!dataTable) return;\n",
              "\n",
              "          const docLinkHtml = 'Like what you see? Visit the ' +\n",
              "            '<a target=\"_blank\" href=https://colab.research.google.com/notebooks/data_table.ipynb>data table notebook</a>'\n",
              "            + ' to learn more about interactive tables.';\n",
              "          element.innerHTML = '';\n",
              "          dataTable['output_type'] = 'display_data';\n",
              "          await google.colab.output.renderOutput(dataTable, element);\n",
              "          const docLink = document.createElement('div');\n",
              "          docLink.innerHTML = docLinkHtml;\n",
              "          element.appendChild(docLink);\n",
              "        }\n",
              "      </script>\n",
              "    </div>\n",
              "  </div>\n",
              "  "
            ]
          },
          "metadata": {},
          "execution_count": 35
        }
      ]
    },
    {
      "cell_type": "code",
      "source": [
        "distortions = []\n",
        "num_clusters = range(1, 7)\n",
        "\n",
        "# Создаем список distortions\n",
        "for i in num_clusters:\n",
        "    cluster_centers, distortion = kmeans(batman_df[['scaled_red', 'scaled_blue', 'scaled_green']], i)\n",
        "    distortions.append(distortion)\n",
        "\n",
        "# Новый датафрейм\n",
        "elbow_plot = pd.DataFrame({'num_clusters':num_clusters, 'distortions': distortions})\n",
        "\n",
        "# Create a line plot of num_clusters and distortions\n",
        "sns.lineplot(x='num_clusters', y='distortions', data = elbow_plot)\n",
        "plt.xticks(num_clusters)\n",
        "plt.show()"
      ],
      "metadata": {
        "colab": {
          "base_uri": "https://localhost:8080/",
          "height": 280
        },
        "id": "BkXxUhPNKPJi",
        "outputId": "7b03678e-d004-4764-b44e-de6609984601"
      },
      "execution_count": 36,
      "outputs": [
        {
          "output_type": "display_data",
          "data": {
            "text/plain": [
              "<Figure size 432x288 with 1 Axes>"
            ],
            "image/png": "[encoded data removed]"
          },
          "metadata": {
            "needs_background": "light"
          }
        }
      ]
    },
    {
      "cell_type": "markdown",
      "source": [
        "# dominant\n"
      ],
      "metadata": {
        "id": "-PmsA318KwXA"
      }
    },
    {
      "cell_type": "code",
      "source": [
        "cluster_centers, distortion = kmeans(batman_df[['scaled_red', 'scaled_blue', 'scaled_green']], 3)"
      ],
      "metadata": {
        "id": "bMThg9Q_KodQ"
      },
      "execution_count": 37,
      "outputs": []
    },
    {
      "cell_type": "code",
      "source": [
        "# стандартная дивиация \n",
        "r_std, g_std, b_std = batman_df[['red', 'green', 'blue']].std()\n",
        "\n",
        "colors = []\n",
        "for cluster_center in cluster_centers:\n",
        "    scaled_r, scaled_g, scaled_b = cluster_center\n",
        "    # Convert each standardized value to scaled value\n",
        "    colors.append((\n",
        "        scaled_r * r_std / 255,\n",
        "        scaled_g * g_std / 255,\n",
        "        scaled_b * b_std / 255\n",
        "    ))\n",
        "\n",
        "# Display colors of cluster centers\n",
        "plt.imshow([colors])\n",
        "plt.show()"
      ],
      "metadata": {
        "colab": {
          "base_uri": "https://localhost:8080/",
          "height": 160
        },
        "id": "R2LeOSsQK2Bi",
        "outputId": "6aae8842-3f0d-49e8-be26-03401e457b0b"
      },
      "execution_count": 38,
      "outputs": [
        {
          "output_type": "display_data",
          "data": {
            "text/plain": [
              "<Figure size 432x288 with 1 Axes>"
            ],
            "image/png": "[encoded data removed]"
          },
          "metadata": {
            "needs_background": "light"
          }
        }
      ]
    },
    {
      "cell_type": "code",
      "source": [
        ""
      ],
      "metadata": {
        "id": "Q6CNs-fNLJnR"
      },
      "execution_count": null,
      "outputs": []
    }
  ]
}