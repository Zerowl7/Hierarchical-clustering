{
 "cells": [
  {
   "cell_type": "markdown",
   "id": "ce0e81f2",
   "metadata": {},
   "source": [
    "## Ход работы: \n",
    "На основе данных про выпитые напитки я строю ML модель, которая кластеризирует наблюдения в кластеры, я использую model = KMeans с 3 кластерами, и делаю полезный инсайт выводя среднее значение по кластерам относительно каждого напитка"
   ]
  },
  {
   "cell_type": "code",
   "execution_count": 2,
   "id": "e15da772",
   "metadata": {},
   "outputs": [],
   "source": [
    "import os\n",
    "import pandas as pd\n",
    "import numpy as np\n",
    "import matplotlib.pyplot as plt\n",
    "from sklearn.cluster import KMeans\n",
    "from matplotlib import style\n",
    "style.use(\"ggplot\")"
   ]
  },
  {
   "cell_type": "code",
   "execution_count": 3,
   "id": "28fc0223",
   "metadata": {},
   "outputs": [],
   "source": [
    "df = pd.read_csv(\"beverage_r.csv\", sep=';', header = 0, index_col=False)"
   ]
  },
  {
   "cell_type": "code",
   "execution_count": 5,
   "id": "c3212fb5",
   "metadata": {},
   "outputs": [
    {
     "data": {
      "text/html": [
       "<div>\n",
       "<style scoped>\n",
       "    .dataframe tbody tr th:only-of-type {\n",
       "        vertical-align: middle;\n",
       "    }\n",
       "\n",
       "    .dataframe tbody tr th {\n",
       "        vertical-align: top;\n",
       "    }\n",
       "\n",
       "    .dataframe thead th {\n",
       "        text-align: right;\n",
       "    }\n",
       "</style>\n",
       "<table border=\"1\" class=\"dataframe\">\n",
       "  <thead>\n",
       "    <tr style=\"text-align: right;\">\n",
       "      <th></th>\n",
       "      <th>numb.obs</th>\n",
       "      <th>COKE</th>\n",
       "      <th>D_COKE</th>\n",
       "      <th>D_PEPSI</th>\n",
       "      <th>D_7UP</th>\n",
       "      <th>PEPSI</th>\n",
       "      <th>SPRITE</th>\n",
       "      <th>TAB</th>\n",
       "      <th>SEVENUP</th>\n",
       "    </tr>\n",
       "  </thead>\n",
       "  <tbody>\n",
       "    <tr>\n",
       "      <th>0</th>\n",
       "      <td>1</td>\n",
       "      <td>1</td>\n",
       "      <td>0</td>\n",
       "      <td>0</td>\n",
       "      <td>0</td>\n",
       "      <td>1</td>\n",
       "      <td>1</td>\n",
       "      <td>0</td>\n",
       "      <td>1</td>\n",
       "    </tr>\n",
       "    <tr>\n",
       "      <th>1</th>\n",
       "      <td>2</td>\n",
       "      <td>1</td>\n",
       "      <td>0</td>\n",
       "      <td>0</td>\n",
       "      <td>0</td>\n",
       "      <td>1</td>\n",
       "      <td>0</td>\n",
       "      <td>0</td>\n",
       "      <td>0</td>\n",
       "    </tr>\n",
       "    <tr>\n",
       "      <th>2</th>\n",
       "      <td>3</td>\n",
       "      <td>1</td>\n",
       "      <td>0</td>\n",
       "      <td>0</td>\n",
       "      <td>0</td>\n",
       "      <td>1</td>\n",
       "      <td>0</td>\n",
       "      <td>0</td>\n",
       "      <td>0</td>\n",
       "    </tr>\n",
       "    <tr>\n",
       "      <th>3</th>\n",
       "      <td>4</td>\n",
       "      <td>0</td>\n",
       "      <td>1</td>\n",
       "      <td>0</td>\n",
       "      <td>1</td>\n",
       "      <td>0</td>\n",
       "      <td>0</td>\n",
       "      <td>1</td>\n",
       "      <td>0</td>\n",
       "    </tr>\n",
       "    <tr>\n",
       "      <th>4</th>\n",
       "      <td>5</td>\n",
       "      <td>1</td>\n",
       "      <td>0</td>\n",
       "      <td>0</td>\n",
       "      <td>0</td>\n",
       "      <td>1</td>\n",
       "      <td>0</td>\n",
       "      <td>0</td>\n",
       "      <td>0</td>\n",
       "    </tr>\n",
       "  </tbody>\n",
       "</table>\n",
       "</div>"
      ],
      "text/plain": [
       "   numb.obs  COKE  D_COKE  D_PEPSI  D_7UP  PEPSI  SPRITE  TAB  SEVENUP\n",
       "0         1     1       0        0      0      1       1    0        1\n",
       "1         2     1       0        0      0      1       0    0        0\n",
       "2         3     1       0        0      0      1       0    0        0\n",
       "3         4     0       1        0      1      0       0    1        0\n",
       "4         5     1       0        0      0      1       0    0        0"
      ]
     },
     "execution_count": 5,
     "metadata": {},
     "output_type": "execute_result"
    }
   ],
   "source": [
    "df.head()"
   ]
  },
  {
   "cell_type": "code",
   "execution_count": 6,
   "id": "3fc660eb",
   "metadata": {},
   "outputs": [
    {
     "data": {
      "text/html": [
       "<div>\n",
       "<style scoped>\n",
       "    .dataframe tbody tr th:only-of-type {\n",
       "        vertical-align: middle;\n",
       "    }\n",
       "\n",
       "    .dataframe tbody tr th {\n",
       "        vertical-align: top;\n",
       "    }\n",
       "\n",
       "    .dataframe thead th {\n",
       "        text-align: right;\n",
       "    }\n",
       "</style>\n",
       "<table border=\"1\" class=\"dataframe\">\n",
       "  <thead>\n",
       "    <tr style=\"text-align: right;\">\n",
       "      <th></th>\n",
       "      <th>numb.obs</th>\n",
       "      <th>COKE</th>\n",
       "      <th>D_COKE</th>\n",
       "      <th>D_PEPSI</th>\n",
       "      <th>D_7UP</th>\n",
       "      <th>PEPSI</th>\n",
       "      <th>SPRITE</th>\n",
       "      <th>TAB</th>\n",
       "      <th>SEVENUP</th>\n",
       "    </tr>\n",
       "  </thead>\n",
       "  <tbody>\n",
       "    <tr>\n",
       "      <th>count</th>\n",
       "      <td>34.000000</td>\n",
       "      <td>34.000000</td>\n",
       "      <td>34.000000</td>\n",
       "      <td>34.000000</td>\n",
       "      <td>34.000000</td>\n",
       "      <td>34.000000</td>\n",
       "      <td>34.000000</td>\n",
       "      <td>34.000000</td>\n",
       "      <td>34.000000</td>\n",
       "    </tr>\n",
       "    <tr>\n",
       "      <th>mean</th>\n",
       "      <td>17.500000</td>\n",
       "      <td>0.588235</td>\n",
       "      <td>0.500000</td>\n",
       "      <td>0.235294</td>\n",
       "      <td>0.205882</td>\n",
       "      <td>0.470588</td>\n",
       "      <td>0.323529</td>\n",
       "      <td>0.323529</td>\n",
       "      <td>0.264706</td>\n",
       "    </tr>\n",
       "    <tr>\n",
       "      <th>std</th>\n",
       "      <td>9.958246</td>\n",
       "      <td>0.499554</td>\n",
       "      <td>0.507519</td>\n",
       "      <td>0.430562</td>\n",
       "      <td>0.410426</td>\n",
       "      <td>0.506640</td>\n",
       "      <td>0.474858</td>\n",
       "      <td>0.474858</td>\n",
       "      <td>0.447811</td>\n",
       "    </tr>\n",
       "    <tr>\n",
       "      <th>min</th>\n",
       "      <td>1.000000</td>\n",
       "      <td>0.000000</td>\n",
       "      <td>0.000000</td>\n",
       "      <td>0.000000</td>\n",
       "      <td>0.000000</td>\n",
       "      <td>0.000000</td>\n",
       "      <td>0.000000</td>\n",
       "      <td>0.000000</td>\n",
       "      <td>0.000000</td>\n",
       "    </tr>\n",
       "    <tr>\n",
       "      <th>25%</th>\n",
       "      <td>9.250000</td>\n",
       "      <td>0.000000</td>\n",
       "      <td>0.000000</td>\n",
       "      <td>0.000000</td>\n",
       "      <td>0.000000</td>\n",
       "      <td>0.000000</td>\n",
       "      <td>0.000000</td>\n",
       "      <td>0.000000</td>\n",
       "      <td>0.000000</td>\n",
       "    </tr>\n",
       "    <tr>\n",
       "      <th>50%</th>\n",
       "      <td>17.500000</td>\n",
       "      <td>1.000000</td>\n",
       "      <td>0.500000</td>\n",
       "      <td>0.000000</td>\n",
       "      <td>0.000000</td>\n",
       "      <td>0.000000</td>\n",
       "      <td>0.000000</td>\n",
       "      <td>0.000000</td>\n",
       "      <td>0.000000</td>\n",
       "    </tr>\n",
       "    <tr>\n",
       "      <th>75%</th>\n",
       "      <td>25.750000</td>\n",
       "      <td>1.000000</td>\n",
       "      <td>1.000000</td>\n",
       "      <td>0.000000</td>\n",
       "      <td>0.000000</td>\n",
       "      <td>1.000000</td>\n",
       "      <td>1.000000</td>\n",
       "      <td>1.000000</td>\n",
       "      <td>0.750000</td>\n",
       "    </tr>\n",
       "    <tr>\n",
       "      <th>max</th>\n",
       "      <td>34.000000</td>\n",
       "      <td>1.000000</td>\n",
       "      <td>1.000000</td>\n",
       "      <td>1.000000</td>\n",
       "      <td>1.000000</td>\n",
       "      <td>1.000000</td>\n",
       "      <td>1.000000</td>\n",
       "      <td>1.000000</td>\n",
       "      <td>1.000000</td>\n",
       "    </tr>\n",
       "  </tbody>\n",
       "</table>\n",
       "</div>"
      ],
      "text/plain": [
       "        numb.obs       COKE     D_COKE    D_PEPSI      D_7UP      PEPSI  \\\n",
       "count  34.000000  34.000000  34.000000  34.000000  34.000000  34.000000   \n",
       "mean   17.500000   0.588235   0.500000   0.235294   0.205882   0.470588   \n",
       "std     9.958246   0.499554   0.507519   0.430562   0.410426   0.506640   \n",
       "min     1.000000   0.000000   0.000000   0.000000   0.000000   0.000000   \n",
       "25%     9.250000   0.000000   0.000000   0.000000   0.000000   0.000000   \n",
       "50%    17.500000   1.000000   0.500000   0.000000   0.000000   0.000000   \n",
       "75%    25.750000   1.000000   1.000000   0.000000   0.000000   1.000000   \n",
       "max    34.000000   1.000000   1.000000   1.000000   1.000000   1.000000   \n",
       "\n",
       "          SPRITE        TAB    SEVENUP  \n",
       "count  34.000000  34.000000  34.000000  \n",
       "mean    0.323529   0.323529   0.264706  \n",
       "std     0.474858   0.474858   0.447811  \n",
       "min     0.000000   0.000000   0.000000  \n",
       "25%     0.000000   0.000000   0.000000  \n",
       "50%     0.000000   0.000000   0.000000  \n",
       "75%     1.000000   1.000000   0.750000  \n",
       "max     1.000000   1.000000   1.000000  "
      ]
     },
     "execution_count": 6,
     "metadata": {},
     "output_type": "execute_result"
    }
   ],
   "source": [
    "df.describe()"
   ]
  },
  {
   "cell_type": "code",
   "execution_count": 7,
   "id": "b308f644",
   "metadata": {},
   "outputs": [
    {
     "data": {
      "text/plain": [
       "KMeans(n_clusters=3)"
      ]
     },
     "execution_count": 7,
     "metadata": {},
     "output_type": "execute_result"
    }
   ],
   "source": [
    "#Делим на количество кластеров - 3, запускаем модель\n",
    "model = KMeans(n_clusters=3, verbose=0)\n",
    "model.fit(df)"
   ]
  },
  {
   "cell_type": "code",
   "execution_count": 10,
   "id": "ff64bc03",
   "metadata": {},
   "outputs": [
    {
     "name": "stdout",
     "output_type": "stream",
     "text": [
      "[2 2 2 2 2 2 2 2 2 2 2 0 0 0 0 0 0 0 0 0 0 0 1 1 1 1 1 1 1 1 1 1 1 1]\n"
     ]
    }
   ],
   "source": [
    "print(model.labels_)\n",
    "#Вот какие лейблы у наших кластеров"
   ]
  },
  {
   "cell_type": "code",
   "execution_count": 11,
   "id": "0ac7191c",
   "metadata": {},
   "outputs": [
    {
     "name": "stdout",
     "output_type": "stream",
     "text": [
      "[[17.          0.54545455  0.45454545  0.27272727  0.09090909  0.45454545\n",
      "   0.36363636  0.18181818  0.18181818]\n",
      " [28.5         0.41666667  0.66666667  0.33333333  0.33333333  0.25\n",
      "   0.16666667  0.5         0.25      ]\n",
      " [ 6.          0.81818182  0.36363636  0.09090909  0.18181818  0.72727273\n",
      "   0.45454545  0.27272727  0.36363636]]\n"
     ]
    }
   ],
   "source": [
    "print(model.cluster_centers_)\n",
    "#Координаты центров кластеров"
   ]
  },
  {
   "cell_type": "code",
   "execution_count": 13,
   "id": "8e71576c",
   "metadata": {},
   "outputs": [
    {
     "name": "stdout",
     "output_type": "stream",
     "text": [
      "[2 2]\n"
     ]
    }
   ],
   "source": [
    "#Добавление новых значений и определение кластера\n",
    "\n",
    "new_items = [[1,1,1,1,1,1,1,1,1], [0,0,0,0,0,0,0,0,0]]\n",
    "print(model.predict(new_items))"
   ]
  },
  {
   "cell_type": "code",
   "execution_count": 16,
   "id": "21aa247b",
   "metadata": {},
   "outputs": [
    {
     "name": "stderr",
     "output_type": "stream",
     "text": [
      "C:\\ProgramData\\Anaconda3\\lib\\site-packages\\sklearn\\cluster\\_kmeans.py:881: UserWarning: KMeans is known to have a memory leak on Windows with MKL, when there are less chunks than available threads. You can avoid it by setting the environment variable OMP_NUM_THREADS=1.\n",
      "  warnings.warn(\n"
     ]
    }
   ],
   "source": [
    "K = range(1,11)\n",
    "models = [KMeans(n_clusters=k, random_state=42, verbose=0).fit(df) for k in K]"
   ]
  },
  {
   "cell_type": "code",
   "execution_count": 17,
   "id": "1615805f",
   "metadata": {},
   "outputs": [],
   "source": [
    "dist = [model.inertia_ for model in models]"
   ]
  },
  {
   "cell_type": "code",
   "execution_count": 19,
   "id": "01307fb8",
   "metadata": {},
   "outputs": [],
   "source": [
    "df['cluster'] = model.labels_\n",
    "mns = df.groupby('cluster').mean()"
   ]
  },
  {
   "cell_type": "code",
   "execution_count": 21,
   "id": "880393c4",
   "metadata": {},
   "outputs": [
    {
     "name": "stdout",
     "output_type": "stream",
     "text": [
      "         numb.obs      COKE    D_COKE   D_PEPSI     D_7UP     PEPSI    SPRITE  \\\n",
      "cluster                                                                         \n",
      "0            17.0  0.545455  0.454545  0.272727  0.090909  0.454545  0.363636   \n",
      "1            28.5  0.416667  0.666667  0.333333  0.333333  0.250000  0.166667   \n",
      "2             6.0  0.818182  0.363636  0.090909  0.181818  0.727273  0.454545   \n",
      "\n",
      "              TAB   SEVENUP  \n",
      "cluster                      \n",
      "0        0.181818  0.181818  \n",
      "1        0.500000  0.250000  \n",
      "2        0.272727  0.363636  \n"
     ]
    }
   ],
   "source": [
    "\n",
    "print(mns)"
   ]
  },
  {
   "cell_type": "markdown",
   "id": "c74eba9e",
   "metadata": {},
   "source": [
    "Наши кластеры можем описать следующим образом, \n",
    "\n",
    "0 кластер - любит попробовать разное \n",
    "\n",
    "1 кластер - любит деетическое\n",
    "\n",
    "3 кластер - любит коричневое"
   ]
  },
  {
   "cell_type": "code",
   "execution_count": 22,
   "id": "1ae82281",
   "metadata": {},
   "outputs": [
    {
     "name": "stdout",
     "output_type": "stream",
     "text": [
      "cluster\n",
      "0    11\n",
      "1    12\n",
      "2    11\n",
      "dtype: int64\n"
     ]
    }
   ],
   "source": [
    "#Размер наших класстеров\n",
    "print(df.groupby('cluster').size())"
   ]
  },
  {
   "cell_type": "code",
   "execution_count": null,
   "id": "6615777c",
   "metadata": {},
   "outputs": [],
   "source": []
  }
 ],
 "metadata": {
  "kernelspec": {
   "display_name": "Python 3 (ipykernel)",
   "language": "python",
   "name": "python3"
  },
  "language_info": {
   "codemirror_mode": {
    "name": "ipython",
    "version": 3
   },
   "file_extension": ".py",
   "mimetype": "text/x-python",
   "name": "python",
   "nbconvert_exporter": "python",
   "pygments_lexer": "ipython3",
   "version": "3.9.7"
  },
  "varInspector": {
   "cols": {
    "lenName": 16,
    "lenType": 16,
    "lenVar": 40
   },
   "kernels_config": {
    "python": {
     "delete_cmd_postfix": "",
     "delete_cmd_prefix": "del ",
     "library": "var_list.py",
     "varRefreshCmd": "print(var_dic_list())"
    },
    "r": {
     "delete_cmd_postfix": ") ",
     "delete_cmd_prefix": "rm(",
     "library": "var_list.r",
     "varRefreshCmd": "cat(var_dic_list()) "
    }
   },
   "types_to_exclude": [
    "module",
    "function",
    "builtin_function_or_method",
    "instance",
    "_Feature"
   ],
   "window_display": false
  }
 },
 "nbformat": 4,
 "nbformat_minor": 5
}
